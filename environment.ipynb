{
 "cells": [
  {
   "cell_type": "code",
   "execution_count": 1,
   "metadata": {
    "collapsed": false
   },
   "outputs": [],
   "source": [
    "from mallworld import MallWorld"
   ]
  },
  {
   "cell_type": "code",
   "execution_count": 4,
   "metadata": {
    "collapsed": false
   },
   "outputs": [],
   "source": [
    "mall_grid = MallWorld.samples[\"two stairs\"]\n",
    "task = MallWorld(maze = mall_grid, num_advs=3, \n",
    "                 rewards = {\"moved\":-1, \"*\":200, \"hit-wall\":-2, \"runinto-people\":-30, \"stair\":-1,\"stay\":-1})"
   ]
  },
  {
   "cell_type": "code",
   "execution_count": 5,
   "metadata": {
    "collapsed": false
   },
   "outputs": [
    {
     "name": "stdout",
     "output_type": "stream",
     "text": [
      "#########\n",
      "#......%#\n",
      "#.......#\n",
      "#.a#....#\n",
      "#..#....#\n",
      "#.......#\n",
      "#.#..a..#\n",
      "#%#...I.#\n",
      "#########\n",
      "\n",
      "#########\n",
      "#......%#\n",
      "#..######\n",
      "#..#...*#\n",
      "#..#..a.#\n",
      "#.......#\n",
      "#####...#\n",
      "#%......#\n",
      "#########\n",
      "(1, 4, 6)\n",
      "123\n",
      "(0, 3, 2)\n",
      "29\n",
      "(0, 6, 5)\n",
      "59\n"
     ]
    }
   ],
   "source": [
    "task.reset()\n",
    "task.visualize()\n",
    "for i in task.adversaries_position:\n",
    "    print(task.maze.unflatten_index(i))\n",
    "    print(i)"
   ]
  },
  {
   "cell_type": "code",
   "execution_count": 51,
   "metadata": {
    "collapsed": false
   },
   "outputs": [
    {
     "name": "stdout",
     "output_type": "stream",
     "text": [
      "((64, array([124,  40,  51], dtype=int64)), -1, 0)\n",
      "#########\n",
      "#......%#\n",
      "#.......#\n",
      "#..#....#\n",
      "#..#a...#\n",
      "#.....a.#\n",
      "#.#.....#\n",
      "#I#...o.#\n",
      "#########\n",
      "\n",
      "#########\n",
      "#......%#\n",
      "#..######\n",
      "#..#...*#\n",
      "#..#...a#\n",
      "#.......#\n",
      "#####...#\n",
      "#%......#\n",
      "#########\n"
     ]
    }
   ],
   "source": [
    "print task.perform_action_adversary_rand(3)\n",
    "task.visualize()"
   ]
  },
  {
   "cell_type": "code",
   "execution_count": null,
   "metadata": {
    "collapsed": true
   },
   "outputs": [],
   "source": []
  }
 ],
 "metadata": {
  "kernelspec": {
   "display_name": "Python 2",
   "language": "python",
   "name": "python2"
  },
  "language_info": {
   "codemirror_mode": {
    "name": "ipython",
    "version": 2
   },
   "file_extension": ".py",
   "mimetype": "text/x-python",
   "name": "python",
   "nbconvert_exporter": "python",
   "pygments_lexer": "ipython2",
   "version": "2.7.7"
  }
 },
 "nbformat": 4,
 "nbformat_minor": 0
}
