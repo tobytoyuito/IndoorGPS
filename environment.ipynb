{
 "cells": [
  {
   "cell_type": "code",
   "execution_count": 1,
   "metadata": {
    "collapsed": false
   },
   "outputs": [],
   "source": [
    "from mallworld import MallWorld\n",
    "import numpy as np\n",
    "import time"
   ]
  },
  {
   "cell_type": "code",
   "execution_count": 36,
   "metadata": {
    "collapsed": false
   },
   "outputs": [
    {
     "data": {
      "text/plain": [
       "[['#########',\n",
       "  '#......%#',\n",
       "  '#.......#',\n",
       "  '#..#....#',\n",
       "  '#..#....#',\n",
       "  '#.......#',\n",
       "  '#.#.....#',\n",
       "  '#%#...o.#',\n",
       "  '#########'],\n",
       " ['#########',\n",
       "  '#%.....%#',\n",
       "  '#..#&&&&#',\n",
       "  '#..#&&&&#',\n",
       "  '#..#&&&&#',\n",
       "  '#.......#',\n",
       "  '#####...#',\n",
       "  '#%.....%#',\n",
       "  '#########'],\n",
       " ['#########',\n",
       "  '#%......#',\n",
       "  '#..######',\n",
       "  '#..#...*#',\n",
       "  '#..#....#',\n",
       "  '#.......#',\n",
       "  '#####...#',\n",
       "  '#......%#',\n",
       "  '#########']]"
      ]
     },
     "execution_count": 36,
     "metadata": {},
     "output_type": "execute_result"
    }
   ],
   "source": [
    "mall_gknrid"
   ]
  },
  {
   "cell_type": "code",
   "execution_count": 2,
   "metadata": {
    "collapsed": false
   },
   "outputs": [],
   "source": [
    "mall_grid = MallWorld.samples[\"Three floors\"]\n",
    "task = MallWorld(maze = mall_grid, num_advs=3, \n",
    "                 rewards = {\"moved\":-1, \"*\":200, \"hit-wall\":-2, \"runinto-people\":-30, \"stair\":-1,\"stay\":-1})"
   ]
  },
  {
   "cell_type": "code",
   "execution_count": 3,
   "metadata": {
    "collapsed": false
   },
   "outputs": [
    {
     "name": "stdout",
     "output_type": "stream",
     "text": [
      "#########\n",
      "#......%#\n",
      "#.......#\n",
      "#..#..a.#\n",
      "#..#....#\n",
      "#.......#\n",
      "#.#.....#\n",
      "#%#...I.#\n",
      "#########\n",
      "\n",
      "#########\n",
      "#%...a.%#\n",
      "#..#&&&a#\n",
      "#..#a&&a#\n",
      "#..#&&&&#\n",
      "#.......#\n",
      "#####...#\n",
      "#%.....%#\n",
      "#########\n",
      "\n",
      "#########\n",
      "#%......#\n",
      "#..######\n",
      "#..#...*#\n",
      "#..#....#\n",
      "#.......#\n",
      "#####...#\n",
      "#.a....%#\n",
      "#########\n",
      "(2, 7, 2)\n",
      "227\n",
      "(0, 3, 6)\n",
      "33\n",
      "(1, 1, 5)\n",
      "95\n"
     ]
    }
   ],
   "source": [
    "task.reset()\n",
    "task.visualize()\n",
    "for i in task.adversaries_position:\n",
    "    print(task.maze.unflatten_index(i))\n",
    "    print(i)"
   ]
  },
  {
   "cell_type": "code",
   "execution_count": 4,
   "metadata": {
    "collapsed": false
   },
   "outputs": [
    {
     "data": {
      "text/plain": [
       "243"
      ]
     },
     "execution_count": 4,
     "metadata": {},
     "output_type": "execute_result"
    }
   ],
   "source": [
    "task.vol"
   ]
  },
  {
   "cell_type": "code",
   "execution_count": 22,
   "metadata": {
    "collapsed": false
   },
   "outputs": [
    {
     "name": "stdout",
     "output_type": "stream",
     "text": [
      "((15, array([231,  33, 112], dtype=int64)), -2, 0)\n",
      "#########\n",
      "#.....I%#\n",
      "#.......#\n",
      "#..#..a.#\n",
      "#..#....#\n",
      "#.......#\n",
      "#.#.....#\n",
      "#%#...o.#\n",
      "#########\n",
      "\n",
      "#########\n",
      "#%.....%#\n",
      "#..#&&a&#\n",
      "#..#aa&&#\n",
      "#..#a&&&#\n",
      "#.......#\n",
      "#####...#\n",
      "#%.....%#\n",
      "#########\n",
      "\n",
      "#########\n",
      "#%......#\n",
      "#..######\n",
      "#..#...*#\n",
      "#..#....#\n",
      "#.......#\n",
      "#####...#\n",
      "#.....a%#\n",
      "#########\n"
     ]
    }
   ],
   "source": [
    "print task.perform_action_adversary_rand(0)\n",
    "task.visualize()"
   ]
  },
  {
   "cell_type": "code",
   "execution_count": 23,
   "metadata": {
    "collapsed": true
   },
   "outputs": [],
   "source": [
    "initial_q = 0\n",
    "num_iterations = 10000\n",
    "num_episodes = 500\n",
    "gamma = 0.95\n",
    "alpha = 0.4\n",
    "epsilon = 0.1"
   ]
  },
  {
   "cell_type": "code",
   "execution_count": 24,
   "metadata": {
    "collapsed": false
   },
   "outputs": [],
   "source": [
    "num_levels = task.maze.shape[0]"
   ]
  },
  {
   "cell_type": "code",
   "execution_count": 25,
   "metadata": {
    "collapsed": false
   },
   "outputs": [],
   "source": [
    "num_options_level = np.zeros(num_levels)\n",
    "for key, value in task.climb.iteritems():\n",
    "    for l in xrange(num_levels):\n",
    "        if key<task.area*(l+1):\n",
    "            num_options_level[l]+=1\n",
    "            break"
   ]
  },
  {
   "cell_type": "code",
   "execution_count": 26,
   "metadata": {
    "collapsed": false
   },
   "outputs": [],
   "source": [
    "max_option = np.max(num_options_level)\n",
    "options = np.zeros((num_levels,max_option))\n",
    "count = np.zeros(num_levels)\n",
    "for key, value in task.climb.iteritems():\n",
    "    for l in xrange(num_levels):\n",
    "        if key<task.area*(l+1):\n",
    "            options[l,count[l]] = value\n",
    "            count[l] +=1\n",
    "            break"
   ]
  },
  {
   "cell_type": "code",
   "execution_count": 27,
   "metadata": {
    "collapsed": true
   },
   "outputs": [],
   "source": [
    "def epsilon_greedy(Q, task, cur_state, num_option=0):\n",
    "    cur_action = Q[cur_state][0:task.num_actions+num_option].argmax()\n",
    "    if(np.random.uniform()<epsilon):\n",
    "        cur_action = np.random.randint(0, task.num_actions+num_option)\n",
    "    \n",
    "    return cur_action"
   ]
  },
  {
   "cell_type": "code",
   "execution_count": 28,
   "metadata": {
    "collapsed": false
   },
   "outputs": [
    {
     "name": "stdout",
     "output_type": "stream",
     "text": [
      "Option Start Option End Episode End 1\n",
      "Option Start Option End Option Start Option End Option Start Option End Option Start Option End Episode End 2\n",
      "Option Start Option End Option Start Option End Episode End 3\n",
      "Option Start Option End Option Start Option End Episode End 4\n",
      "Option Start Option End Option Start Option End Option Start Option End Episode End 5\n",
      "Option Start Option End Episode End 6\n",
      "Option Start Option End Option Start Option End Option Start Option End Option Start Option End Episode End 7\n",
      "Option Start Option End Episode End 8\n",
      "Option Start Option End Episode End 9\n",
      "Option Start Option End Episode End 10\n",
      "Option Start Option End Episode End 11\n",
      "Option Start Option End Option Start Option End Option Start Option End Option Start Option End Episode End 12\n",
      "Option Start Option End Option Start Option End Option Start Option End Episode End 13\n",
      "Option Start Option End Option Start Option End Episode End 14\n",
      "Option Start Option End Option Start Option End Option Start Option End Episode End 15\n",
      "Option Start Option End Episode End 16\n",
      "Option Start Option End Option Start Option End Episode End 17\n",
      "Option Start Option End Episode End 18\n",
      "Option Start Option End Option Start Option End Episode End 19\n",
      "Option Start Option End Episode End 20\n",
      "Option Start Option End Option Start Option End Episode End 21\n",
      "Option Start Option End Option Start Option End Option Start Option End Episode End 22\n",
      "Option Start Option End Episode End 23\n",
      "Option Start Option End Option Start Option End Option Start Option End Episode End 24\n",
      "Option Start Option End Option Start Option End Episode End 25\n",
      "Option Start Option End Option Start Option End Option Start Option End Option Start Option End Option Start Option End Option Start Option End Option Start Option End Option Start Option End Option Start Option End Option Start Option End Option Start Option End Option Start Option End Episode End 26\n",
      "Option Start Option End Episode End 27\n",
      "Option Start Option End Episode End 28\n",
      "Option Start Option End Episode End 29\n",
      "Option Start Option End Episode End 30\n",
      "Option Start Option End Option Start Option End Option Start Option End Episode End 31\n",
      "Option Start Option End Episode End 32\n",
      "Option Start Option End Episode End 33\n",
      "Option Start Option End Episode End 34\n",
      "Option Start Option End Option Start Option End Episode End 35\n",
      "Option Start Option End Option Start Option End Episode End 36\n",
      "Option Start Option End Episode End 37\n",
      "Option Start Option End Option Start Option End Episode End 38\n",
      "Option Start Option End Option Start Option End Episode End 39\n",
      "Option Start Option End Option Start Option End Episode End 40\n",
      "Option Start Option End Option Start Option End Episode End 41\n",
      "Option Start Option End Option Start Option End Episode End 42\n",
      "Option Start Option End Option Start Option End Option Start Option End Option Start Option End Episode End 43\n",
      "Option Start Option End Option Start Option End Episode End 44\n",
      "Option Start Option End Option Start Option End Episode End 45\n",
      "Option Start Option End Episode End 46\n",
      "Option Start Option End Episode End 47\n",
      "Option Start Option End Option Start Option End Episode End 48\n",
      "Option Start Option End Episode End 49\n",
      "Option Start Option End Episode End 50\n",
      "Option Start Option End Option Start Option End Episode End 51\n",
      "Option Start Option End Option Start Option End Episode End 52\n",
      "Option Start Option End Episode End 53\n",
      "Option Start Option End Episode End 54\n",
      "Option Start Option End Option Start Option End Episode End 55\n",
      "Option Start Option End Option Start Option End Episode End 56\n",
      "Option Start Option End Option Start Option End Episode End 57\n",
      "Option Start Option End Episode End 58\n",
      "Option Start Option End Episode End 59\n",
      "Option Start Option End Option Start Option End Episode End 60\n",
      "Option Start Option End Option Start Option End Episode End 61\n",
      "Option Start Option End Episode End 62\n",
      "Option Start Option End Option Start Option End Episode End 63\n",
      "Option Start Option End Episode End 64\n",
      "Option Start Option End Episode End 65\n",
      "Option Start Option End Option Start Option End Episode End 66\n",
      "Option Start Option End Option Start Option End Episode End 67\n",
      "Option Start Option End Option Start Option End Episode End 68\n",
      "Option Start Option End Option Start Option End Episode End 69\n",
      "Option Start Option End Option Start Option End Episode End 70\n",
      "Option Start Option End Episode End 71\n",
      "Option Start Option End Option Start Option End Episode End 72\n",
      "Option Start Option End Episode End 73\n",
      "Option Start Option End Option Start Option End Episode End 74\n",
      "Option Start Option End Episode End 75\n",
      "Option Start Option End Option Start Option End Episode End 76\n",
      "Option Start Option End Episode End 77\n",
      "Option Start Option End Episode End 78\n",
      "Option Start Option End Episode End 79\n",
      "Option Start Option End Option Start Option End Episode End 80\n",
      "Option Start Option End Episode End 81\n",
      "Option Start Option End Option Start Option End Episode End 82\n",
      "Option Start Option End Option Start Option End Episode End 83\n",
      "Option Start Option End Episode End 84\n",
      "Option Start Option End Episode End 85\n",
      "Option Start Option End Option Start Option End Episode End 86\n",
      "Option Start Option End Episode End 87\n",
      "Option Start Option End Episode End 88\n",
      "Option Start Option End Option Start Option End Episode End 89\n",
      "Option Start Option End Episode End 90\n",
      "Option Start Option End Option Start Option End Episode End 91\n",
      "Option Start Option End Episode End 92\n",
      "Option Start Option End Episode End 93\n",
      "Option Start Option End Episode End 94\n",
      "Option Start Option End Option Start Option End Option Start Option End Episode End 95\n",
      "Option Start Option End Episode End 96\n",
      "Option Start Option End Option Start Option End Episode End 97\n",
      "Option Start Option End Option Start Option End Episode End 98\n",
      "Option Start Option End Episode End 99\n",
      "Option Start Option End Episode End 100\n",
      "Option Start Option End Episode End 101\n",
      "Option Start Option End Option Start Option End Episode End 102\n",
      "Option Start Option End Episode End 103\n",
      "Option Start Option End Option Start Option End Episode End 104\n",
      "Option Start Option End Episode End 105\n",
      "Option Start Option End Option Start Option End Episode End 106\n",
      "Option Start Option End Option Start Option End Episode End 107\n",
      "Option Start Option End Episode End 108\n",
      "Option Start Option End Option Start Option End Episode End 109\n",
      "Option Start Option End Option Start Option End Option Start Option End Option Start Option End Option Start Option End Option Start Option End Option Start Option End Episode End 110\n",
      "Option Start Option End Episode End 111\n",
      "Option Start Option End Episode End 112\n",
      "Option Start Option End Episode End 113\n",
      "Option Start Option End Option Start Option End Episode End 114\n",
      "Option Start Option End Option Start Option End Episode End 115\n",
      "Option Start Option End Option Start Option End Episode End 116\n",
      "Option Start Option End Option Start Option End Option Start Option End Episode End 117\n",
      "Option Start Option End Episode End 118\n",
      "Option Start Option End Episode End 119\n",
      "Option Start Option End Option Start Option End Episode End 120\n",
      "Option Start Option End Option Start Option End Episode End 121\n",
      "Option Start Option End Option Start Option End Option Start Option End Episode End 122\n",
      "Option Start Option End Episode End 123\n",
      "Option Start Option End Option Start Option End Option Start Option End Episode End 124\n",
      "Option Start Option End Option Start Option End Episode End 125\n",
      "Option Start Option End Option Start Option End Option Start Option End Episode End 126\n",
      "Option Start Option End Option Start Option End Option Start Option End Episode End 127\n",
      "Option Start Option End Option Start Option End Episode End 128\n",
      "Option Start Option End Option Start Option End Episode End 129\n",
      "Option Start Option End Option Start Option End Episode End 130\n",
      "Option Start Option End Option Start Option End Episode End 131\n",
      "Option Start Option End Episode End 132\n",
      "Option Start Option End Option Start Option End Option Start Option End Episode End 133\n",
      "Option Start Option End Episode End 134\n",
      "Option Start Option End Option Start Option End Option Start Option End Option Start Option End Episode End 135\n",
      "Option Start Option End Option Start Option End Option Start Option End Episode End 136\n",
      "Option Start Option End Option Start Option End Episode End 137\n",
      "Option Start Option End Option Start Option End Episode End 138\n",
      "Option Start Option End Option Start Option End Episode End 139\n",
      "Option Start Option End Option Start Option End Option Start Option End Option Start Option End Episode End 140\n",
      "Option Start Option End Episode End 141\n",
      "Option Start Option End Option Start Option End Episode End 142\n",
      "Option Start Option End Episode End 143\n",
      "Option Start Option End Option Start Option End Episode End 144\n",
      "Option Start Option End Option Start Option End Episode End 145\n",
      "Option Start Option End Option Start Option End Option Start Option End Episode End 146\n",
      "Option Start Option End Option Start Option End Episode End 147\n",
      "Option Start Option End Option Start Option End Episode End 148\n",
      "Option Start Option End Option Start Option End Episode End 149\n",
      "Option Start Option End Option Start Option End Episode End 150\n",
      "Option Start Option End Episode End 151\n",
      "Option Start Option End Option Start Option End Episode End 152\n",
      "Option Start Option End Option Start Option End Episode End 153\n",
      "Option Start Option End Episode End 154\n",
      "Option Start Option End Option Start Option End Option Start Option End Option Start Option End Option Start Option End Episode End 155\n",
      "Option Start Option End Episode End 156\n",
      "Option Start Option End Episode End 157\n",
      "Option Start Option End Option Start Option End Episode End 158\n",
      "Option Start Option End Episode End 159\n",
      "Option Start Option End Option Start Option End Episode End 160\n",
      "Option Start Option End Option Start Option End Episode End 161\n",
      "Option Start Option End Option Start Option End Episode End 162\n",
      "Option Start Option End Option Start Option End Episode End 163\n",
      "Option Start Option End Option Start Option End Episode End 164\n",
      "Option Start Option End Option Start Option End Episode End 165\n",
      "Option Start Option End Episode End 166\n",
      "Option Start Option End Option Start Option End Episode End 167\n",
      "Option Start Option End Option Start Option End Episode End 168\n",
      "Option Start Option End Option Start Option End Option Start Option End Episode End 169\n",
      "Option Start Option End Option Start Option End Episode End 170\n",
      "Option Start Option End Episode End 171\n",
      "Option Start Option End Option Start Option End Episode End 172\n",
      "Option Start Option End Option Start Option End Episode End 173\n",
      "Option Start Option End Option Start Option End Episode End 174\n",
      "Option Start Option End Option Start Option End Episode End 175\n",
      "Option Start Option End Episode End 176\n",
      "Option Start Option End Option Start Option End Episode End 177\n",
      "Option Start Option End Option Start Option End Episode End 178\n",
      "Option Start Option End Option Start Option End Episode End 179\n",
      "Option Start Option End Option Start Option End Episode End 180\n",
      "Option Start Option End Option Start Option End Episode End 181\n",
      "Option Start Option End Option Start Option End Episode End 182\n",
      "Option Start Option End Episode End 183\n",
      "Option Start Option End Episode End 184\n",
      "Option Start Option End Episode End 185\n",
      "Option Start Option End Episode End 186\n",
      "Option Start Option End Option Start Option End Episode End 187\n",
      "Option Start Option End Option Start Option End Option Start Option End Episode End 188\n",
      "Option Start Option End Episode End 189\n",
      "Option Start Option End Option Start Option End Episode End 190\n",
      "Option Start Option End Option Start Option End Episode End 191\n",
      "Option Start Option End Option Start Option End Episode End 192\n",
      "Option Start Option End Option Start Option End Episode End 193\n",
      "Option Start Option End Option Start Option End Episode End 194\n",
      "Option Start Option End Episode End 195\n",
      "Option Start Option End Episode End 196\n",
      "Option Start Option End Episode End 197\n",
      "Option Start Option End Episode End 198\n",
      "Option Start Option End Episode End 199\n",
      "Option Start Option End Option Start Option End Option Start Option End Episode End 200\n",
      "Option Start Option End Episode End 201\n",
      "Option Start Option End Option Start Option End Episode End 202\n",
      "Option Start Option End Option Start Option End Episode End 203\n",
      "Option Start Option End Option Start Option End Option Start Option End Episode End 204\n",
      "Option Start Option End Option Start Option End Option Start Option End Option Start Option End Option Start Option End Option Start Option End Option Start Option End Episode End 205\n",
      "Option Start Option End Option Start Option End Option Start Option End Option Start Option End Episode End 206\n",
      "Option Start Option End Option Start Option End Option Start Option End Option Start Option End Episode End 207\n",
      "Option Start Option End Option Start Option End Option Start Option End Episode End 208\n",
      "Option Start Option End Episode End 209\n",
      "Option Start Option End Episode End 210\n",
      "Option Start Option End Option Start Option End Episode End 211\n",
      "Option Start Option End Episode End 212\n",
      "Option Start Option End Episode End 213\n",
      "Option Start Option End Episode End 214\n",
      "Option Start Option End Episode End 215\n",
      "Option Start Option End Episode End 216\n",
      "Option Start Option End Episode End 217\n",
      "Option Start Option End Episode End 218\n",
      "Option Start Option End Option Start Option End Option Start Option End Episode End 219\n",
      "Option Start Option End Episode End 220\n",
      "Option Start Option End Episode End 221\n",
      "Option Start Option End Option Start Option End Option Start Option End Episode End 222\n",
      "Option Start Option End Episode End 223\n",
      "Option Start Option End Option Start Option End Episode End 224\n",
      "Option Start Option End Episode End 225\n",
      "Option Start Option End Option Start Option End Episode End 226\n",
      "Option Start Option End Option Start Option End Episode End 227\n",
      "Option Start Option End Episode End 228\n",
      "Option Start Option End Option Start Option End Episode End 229\n",
      "Option Start Option End Option Start Option End Option Start Option End Episode End 230\n",
      "Option Start Option End Episode End 231\n",
      "Option Start Option End Episode End 232\n",
      "Option Start Option End Option Start Option End Episode End 233\n",
      "Option Start Option End Option Start Option End Episode End 234\n",
      "Option Start Option End Episode End 235\n",
      "Option Start Option End Episode End 236\n",
      "Option Start Option End Option Start Option End Episode End 237\n",
      "Option Start Option End Option Start Option End Episode End 238\n",
      "Option Start Option End Option Start Option End Episode End 239\n",
      "Option Start Option End Option Start Option End Option Start Option End Episode End 240\n",
      "Option Start Option End Option Start Option End Episode End 241\n",
      "Option Start Option End Episode End 242\n",
      "Option Start Option End Option Start Option End Episode End 243\n",
      "Option Start Option End Option Start Option End Episode End 244\n",
      "Option Start Option End Option Start Option End Option Start Option End Episode End 245\n",
      "Option Start Option End Episode End 246\n",
      "Option Start Option End Option Start Option End Option Start Option End Episode End 247\n",
      "Option Start Option End Episode End 248\n",
      "Option Start Option End Option Start Option End Episode End 249\n",
      "Option Start Option End Option Start Option End Episode End 250\n",
      "Option Start Option End Episode End 251\n",
      "Option Start Option End Option Start Option End Episode End 252\n",
      "Option Start Option End Option Start Option End Episode End 253\n",
      "Option Start Option End Option Start Option End Option Start Option End Episode End 254\n",
      "Option Start Option End Option Start Option End Episode End 255\n",
      "Option Start Option End Option Start Option End Episode End 256\n",
      "Option Start Option End Option Start Option End Episode End 257\n",
      "Option Start Option End Episode End 258\n",
      "Option Start Option End Episode End 259\n",
      "Option Start Option End Episode End 260\n",
      "Option Start Option End Option Start Option End Episode End 261\n",
      "Option Start Option End Episode End 262\n",
      "Option Start Option End Option Start Option End Option Start Option End Option Start Option End Episode End 263\n",
      "Option Start Option End Episode End 264\n",
      "Option Start Option End Episode End 265\n",
      "Option Start Option End Option Start Option End Episode End 266\n",
      "Option Start Option End Option Start Option End Episode End 267\n",
      "Option Start Option End Option Start Option End Episode End 268\n",
      "Option Start Option End Option Start Option End Option Start Option End Option Start Option End Episode End 269\n",
      "Option Start Option End Option Start Option End Episode End 270\n",
      "Option Start Option End Episode End 271\n",
      "Option Start Option End Option Start Option End Episode End 272\n",
      "Option Start Option End Option Start Option End Episode End 273\n",
      "Option Start Option End Option Start Option End Episode End 274\n",
      "Option Start Option End Episode End 275\n",
      "Option Start Option End Option Start Option End Episode End 276\n",
      "Option Start Option End Option Start Option End Episode End 277\n",
      "Option Start Option End Episode End 278\n",
      "Option Start Option End Option Start Option End Episode End 279\n",
      "Option Start Option End Option Start Option End Episode End 280\n",
      "Option Start Option End Option Start Option End Episode End 281\n",
      "Option Start Option End Option Start Option End Episode End 282\n",
      "Option Start Option End Option Start Option End Episode End 283\n",
      "Option Start Option End Option Start Option End Episode End 284\n",
      "Option Start Option End Option Start Option End Episode End 285\n",
      "Option Start Option End Option Start Option End Episode End 286\n",
      "Option Start Option End Option Start Option End Episode End 287\n",
      "Option Start Option End Episode End 288\n",
      "Option Start Option End Episode End 289\n",
      "Option Start Option End Option Start Option End Option Start Option End Option Start Option End Option Start Option End Episode End 290\n",
      "Option Start Option End Episode End 291\n",
      "Option Start Option End Option Start Option End Episode End 292\n",
      "Option Start Option End Episode End 293\n",
      "Option Start Option End Option Start Option End Episode End 294\n",
      "Option Start Option End Option Start Option End Episode End 295\n",
      "Option Start Option End Option Start Option End Episode End 296\n",
      "Option Start Option End Option Start Option End Episode End 297\n",
      "Option Start Option End Option Start Option End Option Start Option End Episode End 298\n",
      "Option Start Option End Option Start Option End Episode End 299\n",
      "Option Start Option End Episode End 300\n",
      "Option Start Option End Option Start Option End Option Start Option End Episode End 301\n",
      "Option Start Option End Episode End 302\n",
      "Option Start Option End Option Start Option End Episode End 303\n",
      "Option Start Option End Option Start Option End Option Start Option End Option Start Option End Episode End 304\n",
      "Option Start Option End Episode End 305\n",
      "Option Start Option End Episode End 306\n",
      "Option Start Option End Option Start Option End Episode End 307\n",
      "Option Start Option End Option Start Option End Episode End 308\n",
      "Option Start Option End Option Start Option End Episode End 309\n",
      "Option Start Option End Option Start Option End Episode End 310\n",
      "Option Start Option End Option Start Option End Episode End 311\n",
      "Option Start Option End Option Start Option End Episode End 312\n",
      "Option Start Option End Episode End 313\n",
      "Option Start Option End Episode End 314\n",
      "Option Start Option End Option Start Option End Episode End 315\n",
      "Option Start Option End Option Start Option End Episode End 316\n",
      "Option Start Option End Option Start Option End Episode End 317\n",
      "Option Start Option End Option Start Option End Episode End 318\n",
      "Option Start Option End Option Start Option End Option Start Option End Episode End 319\n",
      "Option Start Option End Option Start Option End Episode End 320\n",
      "Option Start Option End Option Start Option End Episode End 321\n",
      "Option Start Option End Episode End 322\n",
      "Option Start Option End Episode End 323\n",
      "Option Start Option End Option Start Option End Episode End 324\n",
      "Option Start Option End Episode End 325\n",
      "Option Start Option End Episode End 326\n",
      "Option Start Option End Episode End 327\n",
      "Option Start Option End Episode End 328\n",
      "Option Start Option End Episode End 329\n",
      "Option Start Option End Episode End 330\n",
      "Option Start Option End Episode End 331\n",
      "Option Start Option End Option Start Option End Episode End 332\n",
      "Option Start Option End Option Start Option End Episode End 333\n",
      "Option Start Option End Option Start Option End Episode End 334\n",
      "Option Start Option End Option Start Option End Episode End 335\n",
      "Option Start Option End Option Start Option End Option Start Option End Option Start Option End Option Start Option End Option Start Option End Option Start Option End Option Start Option End Option Start Option End Option Start Option End Option Start Option End Episode End 336\n",
      "Option Start Option End Option Start Option End Option Start Option End Option Start Option End Option Start Option End Option Start Option End Option Start Option End Option Start Option End Option Start Option End Option Start Option End Option Start Option End Option Start Option End Option Start Option End Option Start Option End Option Start Option End Option Start Option End Episode End 337\n",
      "Option Start Option End Episode End 338\n",
      "Option Start Option End Episode End 339\n",
      "Option Start Option End Episode End 340\n",
      "Option Start Option End Option Start Option End Episode End 341\n",
      "Option Start Option End Episode End 342\n",
      "Option Start Option End Option Start Option End Episode End 343\n",
      "Option Start Option End Option Start Option End Episode End 344\n",
      "Option Start Option End Option Start Option End Episode End 345\n",
      "Option Start Option End Option Start Option End Option Start Option End Episode End 346\n",
      "Option Start Option End Episode End 347\n",
      "Option Start Option End Option Start Option End Episode End 348\n",
      "Option Start Option End Option Start Option End Episode End 349\n",
      "Option Start Option End Episode End 350\n",
      "Option Start Option End Episode End 351\n",
      "Option Start Option End Option Start Option End Episode End 352\n",
      "Option Start Option End Episode End 353\n",
      "Option Start Option End Episode End 354\n",
      "Option Start Option End Option Start Option End Episode End 355\n",
      "Option Start Option End Episode End 356\n",
      "Option Start Option End Option Start Option End Option Start Option End Option Start Option End Option Start Option End Option Start Option End Option Start Option End Option Start Option End Option Start Option End Option Start Option End Option Start Option End Option Start Option End Option Start Option End Option Start Option End Option Start Option End Episode End 357\n",
      "Option Start Option End Option Start Option End Episode End 358\n",
      "Option Start Option End Episode End 359\n",
      "Option Start Option End Episode End 360\n",
      "Option Start Option End Episode End 361\n",
      "Option Start Option End Option Start Option End Episode End 362\n",
      "Option Start Option End Option Start Option End Episode End 363\n",
      "Option Start Option End Option Start Option End Episode End 364\n",
      "Option Start Option End Episode End 365\n",
      "Option Start Option End Option Start Option End Episode End 366\n",
      "Option Start Option End Option Start Option End Episode End 367\n",
      "Option Start Option End Option Start Option End Episode End 368\n",
      "Option Start Option End Option Start Option End Episode End 369\n",
      "Option Start Option End Episode End 370\n",
      "Option Start Option End Episode End 371\n",
      "Option Start Option End Option Start Option End Episode End 372\n",
      "Option Start Option End Episode End 373\n",
      "Option Start Option End Option Start Option End Episode End 374\n",
      "Option Start Option End Option Start Option End Option Start Option End Option Start Option End Episode End 375\n",
      "Option Start Option End Episode End 376\n",
      "Option Start Option End Option Start Option End Episode End 377\n",
      "Option Start Option End Episode End 378\n",
      "Option Start Option End Episode End 379\n",
      "Option Start Option End Option Start Option End Episode End 380\n",
      "Option Start Option End Episode End 381\n",
      "Option Start Option End Option Start Option End Episode End 382\n",
      "Option Start Option End Option Start Option End Episode End 383\n",
      "Option Start Option End Episode End 384\n",
      "Option Start Option End Episode End 385\n",
      "Option Start Option End Option Start Option End Episode End 386\n",
      "Option Start Option End Option Start Option End Episode End 387\n",
      "Option Start Option End Option Start Option End Episode End 388\n",
      "Option Start Option End Episode End 389\n",
      "Option Start Option End Option Start Option End Episode End 390\n",
      "Option Start Option End Option Start Option End Episode End 391\n",
      "Option Start Option End Option Start Option End Episode End 392\n",
      "Option Start Option End Episode End 393\n",
      "Episode End 394\n",
      "Option Start Option End Option Start Option End Episode End 395\n",
      "Option Start Option End Episode End 396\n",
      "Option Start Option End Episode End 397\n",
      "Option Start Option End Option Start Option End Episode End 398\n",
      "Option Start Option End Episode End 399\n",
      "Option Start Option End Option Start Option End Episode End 400\n",
      "Option Start Option End Option Start Option End Episode End 401\n",
      "Option Start Option End Option Start Option End Episode End 402\n",
      "Option Start Option End Episode End 403\n",
      "Option Start Option End Option Start Option End Episode End 404\n",
      "Option Start Option End Episode End 405\n",
      "Option Start Option End Episode End 406\n",
      "Option Start Option End Episode End 407\n",
      "Option Start Option End Episode End 408\n",
      "Option Start Option End Option Start Option End Episode End 409\n",
      "Option Start Option End Option Start Option End Episode End 410\n",
      "Option Start Option End Episode End 411\n",
      "Option Start Option End Option Start Option End Option Start Option End Episode End 412\n",
      "Option Start Option End Episode End 413\n",
      "Option Start Option End Episode End 414\n",
      "Option Start Option End Episode End 415\n",
      "Option Start Option End Option Start Option End Episode End 416\n",
      "Option Start Option End Episode End 417\n",
      "Option Start Option End Episode End 418\n",
      "Option Start Option End Option Start Option End Episode End 419\n",
      "Option Start Option End Option Start Option End Episode End 420\n",
      "Option Start Option End Episode End 421\n",
      "Option Start Option End Option Start Option End Option Start Option End Episode End 422\n",
      "Option Start Option End Option Start Option End Episode End 423\n",
      "Option Start Option End Option Start Option End Episode End 424\n",
      "Option Start Option End Episode End 425\n",
      "Option Start Option End Episode End 426\n",
      "Option Start Option End Option Start Option End Episode End 427\n",
      "Option Start Option End Option Start Option End Episode End 428\n",
      "Option Start Option End Episode End 429\n",
      "Option Start Option End Episode End 430\n",
      "Option Start Option End Episode End 431\n",
      "Option Start Option End Episode End 432\n",
      "Option Start Option End Episode End 433\n",
      "Option Start Option End Option Start Option End Option Start Option End Episode End 434\n",
      "Option Start Option End Episode End 435\n",
      "Option Start Option End Episode End 436\n",
      "Option Start Option End Option Start Option End Episode End 437\n",
      "Option Start Option End Option Start Option End Episode End 438\n",
      "Option Start Option End Option Start Option End Option Start Option End Option Start Option End Episode End 439\n",
      "Option Start Option End Option Start Option End Episode End 440\n",
      "Option Start Option End Option Start Option End Option Start Option End Episode End 441\n",
      "Option Start Option End Episode End 442\n",
      "Option Start Option End Option Start Option End Episode End 443\n",
      "Option Start Option End Option Start Option End Episode End 444\n",
      "Option Start Option End Option Start Option End Episode End 445\n",
      "Option Start Option End Option Start Option End Episode End 446\n",
      "Option Start Option End Option Start Option End Option Start Option End Episode End 447\n",
      "Option Start Option End Episode End 448\n",
      "Option Start Option End Option Start Option End Option Start Option End Episode End 449\n",
      "Option Start Option End Episode End 450\n",
      "Option Start Option End Option Start Option End Episode End 451\n",
      "Option Start Option End Episode End 452\n",
      "Option Start Option End Episode End 453\n",
      "Option Start Option End Episode End 454\n",
      "Option Start Option End Option Start Option End Episode End 455\n",
      "Option Start Option End Episode End 456\n",
      "Option Start Option End Episode End 457\n",
      "Option Start Option End Episode End 458\n",
      "Option Start Option End Option Start Option End Episode End 459\n",
      "Option Start Option End Episode End 460\n",
      "Option Start Option End Option Start Option End Episode End 461\n",
      "Option Start Option End Episode End 462\n",
      "Option Start Option End Episode End 463\n",
      "Option Start Option End Episode End 464\n",
      "Option Start Option End Episode End 465\n",
      "Option Start Option End Episode End 466\n",
      "Option Start Option End Option Start Option End Option Start Option End Episode End 467\n",
      "Option Start Option End Episode End 468\n",
      "Option Start Option End Episode End 469\n",
      "Option Start Option End Episode End 470\n",
      "Option Start Option End Option Start Option End Episode End 471\n",
      "Option Start Option End Episode End 472\n",
      "Option Start Option End Episode End 473\n",
      "Option Start Option End Episode End 474\n",
      "Option Start Option End Option Start Option End Episode End 475\n",
      "Option Start Option End Episode End 476\n",
      "Option Start Option End Episode End 477\n",
      "Option Start Option End Episode End 478\n",
      "Option Start Option End Option Start Option End Episode End 479\n",
      "Option Start Option End Option Start Option End Episode End 480\n",
      "Option Start Option End Episode End 481\n",
      "Option Start Option End Option Start Option End Episode End 482\n",
      "Option Start Option End Option Start Option End Episode End 483\n",
      "Option Start Option End Option Start Option End Episode End 484\n",
      "Option Start Option End Episode End 485\n",
      "Option Start Option End Episode End 486\n",
      "Option Start Option End Episode End 487\n",
      "Option Start Option End Episode End 488\n",
      "Option Start Option End Episode End 489\n",
      "Option Start Option End Option Start Option End Episode End 490\n",
      "Option Start Option End Option Start Option End Episode End 491\n",
      "Option Start Option End Episode End 492\n",
      "Option Start Option End Episode End 493\n",
      "Option Start Option End Option Start Option End Episode End 494\n",
      "Option Start Option End Episode End 495\n",
      "Option Start Option End Episode End 496\n",
      "Option Start Option End Episode End 497\n",
      "Option Start Option End Option Start Option End Episode End 498\n",
      "Option Start Option End Episode End 499\n",
      "Option Start Option End Episode End 500\n",
      "155.56400013\n"
     ]
    }
   ],
   "source": [
    "reward_iter = []    # Immediate Reward by Iteration\n",
    "reward_epi = []       # Immediate Reward by Episode\n",
    "\n",
    "num_iter = 0\n",
    "num_epi = 0\n",
    "\n",
    "begin = time.time()\n",
    "\n",
    "Q = np.full((3796875, task.num_actions+max_option), initial_q)  # Initialize action value function for this trial\n",
    "while (num_iter<num_iterations)|(num_epi<num_episodes):\n",
    "    task.reset()                            # reset to origin\n",
    "    cur_state = task.get_current_situation()[0]\n",
    "    states = []\n",
    "    \n",
    "    # Choose action from 0.1-policy\n",
    "    l = task.observe()[0]/task.area\n",
    "    cur_action = epsilon_greedy(Q, task, cur_state, num_options_level[l])\n",
    "        \n",
    "    tmp_reward_epi = 0                      # Cumulative reward of this episode\n",
    "\n",
    "    while not task.is_terminal(cur_state%(num_levels*task.area)): # while-loop until current state is terminal state or reach maximum iterations\n",
    "        # find whether this is an option\n",
    "        count = 0\n",
    "        if cur_action >= task.num_actions: # if this is option\n",
    "            \n",
    "            #print(cur_action)\n",
    "            \n",
    "            op = cur_action - task.num_actions\n",
    "            level = l\n",
    "            op_total_reward = 0\n",
    "            \n",
    "            print \"Option Start\",\n",
    "            #print task.observe(),\n",
    "            #print options[level, op], level\n",
    "            \n",
    "            op_cur_state = task.get_current_situation()[0]\n",
    "            op_cur_action = epsilon_greedy(Q, task, op_cur_state, 0)\n",
    "            tmp_reward_epi = 0\n",
    "            \n",
    "            while (op_cur_state%(num_levels*task.area)) != options[level, op] and\\\n",
    "                    not task.is_terminal(op_cur_state%(num_levels*task.area)) and count<1000:\n",
    "                #if num_epi>9:\n",
    "                #print op_cur_state%(num_levels*task.area),\n",
    "                op_reward = task.perform_action_adversary_w_policy(op_cur_action)[1]\n",
    "                op_new_state = task.get_current_situation()[0]\n",
    "                \n",
    "                states.append(op_new_state)\n",
    "                \n",
    "                reward_iter.append(op_reward)\n",
    "                tmp_reward_epi += op_reward\n",
    "                op_total_reward += gamma**count*op_reward\n",
    "                \n",
    "                num_iter += 1\n",
    "                count += 1\n",
    "                \n",
    "                op_new_action = epsilon_greedy(Q, task, op_new_state, 0)\n",
    "                \n",
    "                Q[op_cur_state, op_cur_action] += \\\n",
    "                alpha*(op_reward + gamma*Q[op_new_state, Q[op_new_state][:task.num_actions].argmax()] - Q[op_cur_state, op_cur_action])\n",
    "                if task.climb.has_key(op_cur_state%task.area):\n",
    "                    dif = op_cur_state%task.area-task.climb[op_cur_state%task.area]\n",
    "                    Q[op_cur_state+dif, op_cur_action] = Q[op_cur_state, op_cur_action]\n",
    "                \n",
    "                op_cur_state = op_new_state\n",
    "                op_cur_action = op_new_action\n",
    "                \n",
    "            new_action = op_cur_action\n",
    "            new_state = op_cur_state\n",
    "            reward = op_total_reward\n",
    "            \n",
    "            print \"Option End\",\n",
    "            #print(new_state%243)\n",
    "            #print(new_action)\n",
    "        \n",
    "        # if it is not option\n",
    "        else:\n",
    "            #if num_epi>9:\n",
    "                #print cur_state%162,\n",
    "            reward = task.perform_action_adversary_w_policy(cur_action)[1]   # Take action and observe reward and new state\n",
    "            new_state = task.get_current_situation()[0]\n",
    "            \n",
    "            states.append(new_state)\n",
    "            \n",
    "            reward_iter.append(reward)\n",
    "            tmp_reward_epi += reward\n",
    "\n",
    "            num_iter += 1\n",
    "            count +=1\n",
    "            l = task.observe()[0]/task.area\n",
    "            new_action = epsilon_greedy(Q, task, new_state, num_options_level[l])    # Choose action from 0.1-policy\n",
    "            \n",
    "        Q[cur_state, cur_action] += \\\n",
    "        alpha*(reward + gamma**(count)*Q[new_state, Q[new_state].argmax()] - Q[cur_state, cur_action])\n",
    "        \n",
    "        if task.climb.has_key(cur_state%task.area):\n",
    "            dif = cur_state%task.area - task.climb[cur_state%task.area]\n",
    "            Q[cur_state+dif, cur_action] = Q[cur_state, cur_action]\n",
    "        \n",
    "        cur_state = new_state\n",
    "        cur_action = new_action\n",
    "    reward_epi.append(tmp_reward_epi)\n",
    "\n",
    "    num_epi += 1\n",
    "    print \"Episode End\",num_epi\n",
    "print(time.time()-begin)"
   ]
  },
  {
   "cell_type": "code",
   "execution_count": null,
   "metadata": {
    "collapsed": false
   },
   "outputs": [],
   "source": [
    "#print states[-1]%243\n",
    "task.is_terminal(196)"
   ]
  },
  {
   "cell_type": "code",
   "execution_count": 42,
   "metadata": {
    "collapsed": false
   },
   "outputs": [
    {
     "data": {
      "text/plain": [
       "-1.1102230246251565e-16"
      ]
     },
     "execution_count": 42,
     "metadata": {},
     "output_type": "execute_result"
    }
   ],
   "source": [
    "op_reward + gamma*Q[op_new_state, Q[op_new_state].argmax()] - Q[op_cur_state, op_cur_action]"
   ]
  },
  {
   "cell_type": "code",
   "execution_count": 44,
   "metadata": {
    "collapsed": false
   },
   "outputs": [
    {
     "data": {
      "text/plain": [
       "-1.0"
      ]
     },
     "execution_count": 44,
     "metadata": {},
     "output_type": "execute_result"
    }
   ],
   "source": [
    "op_reward + gamma*Q[op_new_state, Q[op_new_state].argmax()]"
   ]
  },
  {
   "cell_type": "code",
   "execution_count": 48,
   "metadata": {
    "collapsed": false
   },
   "outputs": [
    {
     "data": {
      "text/plain": [
       "69308"
      ]
     },
     "execution_count": 48,
     "metadata": {},
     "output_type": "execute_result"
    }
   ],
   "source": [
    "num_iter"
   ]
  },
  {
   "cell_type": "code",
   "execution_count": 45,
   "metadata": {
    "collapsed": false
   },
   "outputs": [
    {
     "data": {
      "text/plain": [
       "51.0"
      ]
     },
     "execution_count": 45,
     "metadata": {},
     "output_type": "execute_result"
    }
   ],
   "source": [
    "op_new_state"
   ]
  },
  {
   "cell_type": "code",
   "execution_count": 38,
   "metadata": {
    "collapsed": false
   },
   "outputs": [
    {
     "data": {
      "text/plain": [
       "51.0"
      ]
     },
     "execution_count": 38,
     "metadata": {},
     "output_type": "execute_result"
    }
   ],
   "source": [
    "task.get_current_situation()[0]%81"
   ]
  },
  {
   "cell_type": "code",
   "execution_count": 30,
   "metadata": {
    "collapsed": false
   },
   "outputs": [],
   "source": [
    "import matplotlib.pyplot as plt\n",
    "% matplotlib inline"
   ]
  },
  {
   "cell_type": "code",
   "execution_count": 34,
   "metadata": {
    "collapsed": false
   },
   "outputs": [
    {
     "data": {
      "image/png": "[encoded data removed]",
      "text/plain": [
       "<matplotlib.figure.Figure at 0x1c3004a8>"
      ]
     },
     "metadata": {},
     "output_type": "display_data"
    },
    {
     "data": {
      "image/png": "[encoded data removed]",
      "text/plain": [
       "<matplotlib.figure.Figure at 0x1abcdba8>"
      ]
     },
     "metadata": {},
     "output_type": "display_data"
    }
   ],
   "source": [
    "#MIN_ITERATIONS = num_iterations\n",
    "MIN_ITERATIONS=100000\n",
    "MIN_EPISODES = num_episodes\n",
    "\n",
    "plt.figure(figsize=(15,6))\n",
    "plt.subplot(1,2,1)\n",
    "cum_reward_iter = np.cumsum(reward_iter, axis=0)\n",
    "plt.plot(cum_reward_iter,color='b')\n",
    "\n",
    "plt.xlabel('iterations')\n",
    "plt.ylabel('cumulative reward respect to iterations')\n",
    "plt.xlim([0,MIN_ITERATIONS])\n",
    "plt.title('Plot1-- cumulative reward respect to iterations')\n",
    "\n",
    "plt.subplot(1,2,2)\n",
    "plt.plot(reward_epi, color='b')\n",
    "\n",
    "plt.xlabel('episodes')\n",
    "plt.ylabel('total reward per episodes')\n",
    "plt.xlim([0,MIN_EPISODES])\n",
    "plt.title('Plot2-- total reward per episodes')\n",
    "\n",
    "plt.show()\n",
    "\n",
    "plt.figure(figsize=(18,4))\n",
    "plt.subplot(1,3,1)\n",
    "plt.pcolormesh(Q[:81].max(axis=1).reshape(task.maze.shape[1:])[::-1,:])\n",
    "plt.colorbar();\n",
    "\n",
    "plt.subplot(1,3,2)\n",
    "plt.pcolormesh(Q[81:162].max(axis=1).reshape(task.maze.shape[1:])[::-1,:])\n",
    "plt.colorbar();\n",
    "\n",
    "plt.subplot(1,3,3)\n",
    "plt.pcolormesh(Q[162:243].max(axis=1).reshape(task.maze.shape[1:])[::-1,:])\n",
    "plt.colorbar();"
   ]
  },
  {
   "cell_type": "code",
   "execution_count": null,
   "metadata": {
    "collapsed": true
   },
   "outputs": [],
   "source": [
    "task."
   ]
  },
  {
   "cell_type": "code",
   "execution_count": 35,
   "metadata": {
    "collapsed": false
   },
   "outputs": [
    {
     "name": "stdout",
     "output_type": "stream",
     "text": [
      "#########\n",
      "#......%#\n",
      "#.......#\n",
      "#..#....#\n",
      "#..#....#\n",
      "#.......#\n",
      "#.#.....#\n",
      "#%#...o.#\n",
      "#########\n",
      "\n",
      "#########\n",
      "#%.....%#\n",
      "#.a#&&&a#\n",
      "#..#&a&a#\n",
      "#..#&&&&#\n",
      "#.......#\n",
      "#####...#\n",
      "#%.....%#\n",
      "#########\n",
      "\n",
      "#########\n",
      "#%......#\n",
      "#..######\n",
      "#..#...I#\n",
      "#..#....#\n",
      "#....a..#\n",
      "#####..a#\n",
      "#......%#\n",
      "#########\n"
     ]
    }
   ],
   "source": [
    "task.visualize()"
   ]
  }
 ],
 "metadata": {
  "kernelspec": {
   "display_name": "Python 2",
   "language": "python",
   "name": "python2"
  },
  "language_info": {
   "codemirror_mode": {
    "name": "ipython",
    "version": 2
   },
   "file_extension": ".py",
   "mimetype": "text/x-python",
   "name": "python",
   "nbconvert_exporter": "python",
   "pygments_lexer": "ipython2",
   "version": "2.7.7"
  }
 },
 "nbformat": 4,
 "nbformat_minor": 0
}
