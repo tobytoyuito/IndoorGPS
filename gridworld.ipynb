{
 "cells": [
  {
   "cell_type": "code",
   "execution_count": 432,
   "metadata": {
    "collapsed": true
   },
   "outputs": [],
   "source": [
    "from gridworld import GridWorld"
   ]
  },
  {
   "cell_type": "code",
   "execution_count": 357,
   "metadata": {
    "collapsed": true
   },
   "outputs": [],
   "source": [
    "mall_grid = GridWorld.samples[\"two level\"]\n",
    "mall = GridWorld(maze = mall_grid, num_advs=3, \n",
    "                 rewards = {\"moved\":-1, \"*\":10, \"hit-wall\":-50, \"runinto-people\":-100, \"stair\":0})"
   ]
  },
  {
   "cell_type": "code",
   "execution_count": 359,
   "metadata": {
    "collapsed": false
   },
   "outputs": [
    {
     "data": {
      "text/plain": [
       "array([100, 114,  70], dtype=int64)"
      ]
     },
     "execution_count": 359,
     "metadata": {},
     "output_type": "execute_result"
    }
   ],
   "source": [
    "mall.adversaries_position"
   ]
  },
  {
   "cell_type": "code",
   "execution_count": 360,
   "metadata": {
    "collapsed": false
   },
   "outputs": [
    {
     "name": "stdout",
     "output_type": "stream",
     "text": [
      "#########\n",
      "#......%#\n",
      "#.......#\n",
      "#..#....#\n",
      "#..#....#\n",
      "#.......#\n",
      "##..a...#\n",
      "#I......#\n",
      "#########\n",
      "\n",
      "#########\n",
      "#......%#\n",
      "#.a.....#\n",
      "#..#....#\n",
      "#..#....#\n",
      "#...a...#\n",
      "##......#\n",
      "#*......#\n",
      "#########\n",
      "(0, 6, 4)\n",
      "(1, 5, 4)\n",
      "(1, 2, 2)\n"
     ]
    }
   ],
   "source": [
    "mall.reset()\n",
    "mall.visualize()\n",
    "for i in mall.adversaries_position:\n",
    "    print mall.maze.unflatten_index(i)"
   ]
  },
  {
   "cell_type": "code",
   "execution_count": 430,
   "metadata": {
    "collapsed": false
   },
   "outputs": [
    {
     "data": {
      "text/plain": [
       "((145, array([ 64, 130, 101], dtype=int64)), 9)"
      ]
     },
     "execution_count": 430,
     "metadata": {},
     "output_type": "execute_result"
    }
   ],
   "source": [
    "mall.perform_action(3)"
   ]
  },
  {
   "cell_type": "code",
   "execution_count": 431,
   "metadata": {
    "collapsed": false
   },
   "outputs": [
    {
     "name": "stdout",
     "output_type": "stream",
     "text": [
      "#########\n",
      "#......%#\n",
      "#.......#\n",
      "#..#....#\n",
      "#..#....#\n",
      "#.......#\n",
      "##......#\n",
      "#a......#\n",
      "#########\n",
      "\n",
      "#########\n",
      "#......%#\n",
      "#.a.....#\n",
      "#..#....#\n",
      "#..#....#\n",
      "#...a...#\n",
      "##......#\n",
      "#I......#\n",
      "#########\n"
     ]
    }
   ],
   "source": [
    "mall.visualize()"
   ]
  },
  {
   "cell_type": "code",
   "execution_count": null,
   "metadata": {
    "collapsed": true
   },
   "outputs": [],
   "source": []
  },
  {
   "cell_type": "code",
   "execution_count": null,
   "metadata": {
    "collapsed": true
   },
   "outputs": [],
   "source": []
  },
  {
   "cell_type": "code",
   "execution_count": null,
   "metadata": {
    "collapsed": true
   },
   "outputs": [],
   "source": []
  },
  {
   "cell_type": "code",
   "execution_count": null,
   "metadata": {
    "collapsed": true
   },
   "outputs": [],
   "source": []
  }
 ],
 "metadata": {
  "kernelspec": {
   "display_name": "Python 2",
   "language": "python",
   "name": "python2"
  },
  "language_info": {
   "codemirror_mode": {
    "name": "ipython",
    "version": 2
   },
   "file_extension": ".py",
   "mimetype": "text/x-python",
   "name": "python",
   "nbconvert_exporter": "python",
   "pygments_lexer": "ipython2",
   "version": "2.7.7"
  }
 },
 "nbformat": 4,
 "nbformat_minor": 0
}
